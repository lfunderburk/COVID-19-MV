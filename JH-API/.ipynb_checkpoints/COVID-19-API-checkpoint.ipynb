{
 "cells": [
  {
   "cell_type": "markdown",
   "metadata": {},
   "source": [
    "![alt text](https://github.com/callysto/callysto-sample-notebooks/blob/master/notebooks/images/Callysto_Notebook-Banner_Top_06.06.18.jpg?raw=true)  \n"
   ]
  },
  {
   "cell_type": "code",
   "execution_count": null,
   "metadata": {},
   "outputs": [],
   "source": [
    "import requests as r\n",
    "import pandas as pd\n",
    "from pandas.io.json import json_normalize\n",
    "# Assign to appropriate continent\n",
    "import pycountry_convert as pc\n",
    "import plotly.offline as offline "
   ]
  },
  {
   "cell_type": "code",
   "execution_count": null,
   "metadata": {},
   "outputs": [],
   "source": [
    "# Get the latest data\n",
    "# Confirmed\n",
    "API_response_confirmed = r.get(\"https://covid19api.herokuapp.com/confirmed\")\n",
    "data = API_response_confirmed.json() # Check the JSON Response Content documentation below\n",
    "confirmed_df = json_normalize(data,record_path=[\"locations\"])\n",
    "# Deaths\n",
    "API_response_death = r.get(\"https://covid19api.herokuapp.com/deaths\")\n",
    "data = API_response_death.json() # Check the JSON Response Content documentation below\n",
    "death_df = json_normalize(data,record_path=[\"locations\"])\n",
    "# Latest\n",
    "API_summary = r.get(\"https://covid19api.herokuapp.com/latest\")\n",
    "data2 = API_summary.json()\n",
    "summary  = json_normalize(data2)"
   ]
  },
  {
   "cell_type": "code",
   "execution_count": null,
   "metadata": {},
   "outputs": [],
   "source": [
    "# Get unique countries\n",
    "countries_regions = confirmed_df[\"country\"].unique()\n",
    "# Get unique states\n",
    "provinces_states = confirmed_df[\"country\"].unique()\n",
    "\n",
    "# Build country dictionary: states\n",
    "country_dic  = {}\n",
    "for i in range(len(countries_regions)): \n",
    "\n",
    "    states = confirmed_df[confirmed_df[\"country\"]==countries_regions[i]][\"province\"].unique()\n",
    "\n",
    "    country_dic[countries_regions[i]] = states"
   ]
  },
  {
   "cell_type": "code",
   "execution_count": null,
   "metadata": {},
   "outputs": [],
   "source": [
    "# Assign continent codes for sunburst plot\n",
    "cont_codes = []\n",
    "for item in confirmed_df[\"country_code\"]:\n",
    "    try:\n",
    "        cont_code = pc.country_alpha2_to_continent_code(item)\n",
    "        cont_codes.append(cont_code)\n",
    "    except:\n",
    "        cont_codes.append(item)\n",
    "        \n",
    "confirmed_df[\"continent code\"] = cont_codes\n",
    "death_df[\"continent code\"] = cont_codes"
   ]
  },
  {
   "cell_type": "code",
   "execution_count": null,
   "metadata": {},
   "outputs": [],
   "source": [
    "confirmed_df.head(5)"
   ]
  },
  {
   "cell_type": "code",
   "execution_count": null,
   "metadata": {},
   "outputs": [],
   "source": [
    "death_df.head(5)"
   ]
  },
  {
   "cell_type": "code",
   "execution_count": null,
   "metadata": {},
   "outputs": [],
   "source": [
    "history = json_normalize(data,record_path=[\"locations\",\"history\"])"
   ]
  },
  {
   "cell_type": "code",
   "execution_count": null,
   "metadata": {},
   "outputs": [],
   "source": [
    "conf_df = confirmed_df[['country','continent code','latest']]\n",
    "deat_df = death_df[['country','continent code','latest']]\n",
    "\n",
    "#The sunburst plot requires weights (values), labels, and parent (region, or World)\n",
    "# We build the corresponding table here\n",
    "# Inspired and adapted from https://pypi.org/project/world-bank-data/ \n",
    "columns = ['labels','parents',  'values']\n",
    "# Build the levels \n",
    "# Level 1 - create copy of original \n",
    "level1 = conf_df.copy()\n",
    "# Rename columns\n",
    "level1.columns = columns\n",
    "# Add a text column - format values column\n",
    "sb = death_df.groupby('country').latest.sum().reset_index()[['country','latest']]\n",
    "#level1['text'] = level1['values'].apply(lambda pop: 'Confirmed {:,.0f}'.format(pop))\n",
    "#level1['text'] = sb['latest'].apply(lambda pop: 'Deaths {:,.0f}'.format(pop))\n",
    "# # lat_death = sb['latest'].apply(lambda pop: 'Death {:,.0f}'.format(pop)).to_list()\n",
    "# # level1['text']  = lat_death\n",
    "\n",
    "\n",
    "# Create level 2\n",
    "# Group by continent code\n",
    "level3 = deat_df.groupby('continent code').latest.sum().reset_index()[['continent code', 'continent code', 'latest']]\n",
    "# Group by continent code\n",
    "level2 = conf_df.groupby('continent code').latest.sum().reset_index()[['continent code', 'continent code', 'latest']]\n",
    "# Rename columns\n",
    "level2.columns = columns\n",
    "level2['parents'] = 'World'\n",
    "# move value to text for this level\n",
    "level2['text'] = level2['values'].apply(lambda pop: 'Confirmed {:,.0f}'.format(pop))\n",
    "level2['values'] = level3[\"latest\"]\n",
    "\n",
    "\n",
    "\n",
    "# Create level 3 - world total as of latest date\n",
    "level4 = pd.DataFrame({'parents': [''], 'labels': ['World'],\n",
    "                       'values': [0.0], 'text': ['{:,.0f}'.format(summary[\"confirmed\"].sum())]})\n",
    "\n",
    "# Create master dataframe with all levels\n",
    "all_levels = pd.concat([level1,level2,level4], axis=0,sort=True).reset_index(drop=True)\n"
   ]
  },
  {
   "cell_type": "code",
   "execution_count": null,
   "metadata": {},
   "outputs": [],
   "source": [
    "#Sunburst plot\n",
    "last_date = pd.to_datetime('today').date()\n",
    "fig = offline.iplot(dict(\n",
    "    data=[dict(type='sunburst', hoverinfo='values', \\\n",
    "               **all_levels)],\n",
    "    layout=dict(title='COVID-19 Confirmed Cases and Deaths on ' + str(last_date),\n",
    "                width=800, height=800,insidetextorientation='radial')),\n",
    "    validate=False)"
   ]
  },
  {
   "cell_type": "markdown",
   "metadata": {},
   "source": [
    "[![Callysto.ca License](https://github.com/callysto/curriculum-notebooks/blob/master/callysto-notebook-banner-bottom.jpg?raw=true)](https://github.com/callysto/curriculum-notebooks/blob/master/LICENSE.md)"
   ]
  }
 ],
 "metadata": {
  "kernelspec": {
   "display_name": "Python 3",
   "language": "python",
   "name": "python3"
  },
  "language_info": {
   "codemirror_mode": {
    "name": "ipython",
    "version": 3
   },
   "file_extension": ".py",
   "mimetype": "text/x-python",
   "name": "python",
   "nbconvert_exporter": "python",
   "pygments_lexer": "ipython3",
   "version": "3.7.4"
  }
 },
 "nbformat": 4,
 "nbformat_minor": 2
}
