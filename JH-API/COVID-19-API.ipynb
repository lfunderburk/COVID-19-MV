{
 "cells": [
  {
   "cell_type": "markdown",
   "metadata": {},
   "source": [
    "![alt text](https://github.com/callysto/callysto-sample-notebooks/blob/master/notebooks/images/Callysto_Notebook-Banner_Top_06.06.18.jpg?raw=true)  \n"
   ]
  },
  {
   "cell_type": "markdown",
   "metadata": {},
   "source": [
    "## Visualizing live COVID-19 cases around the world\n",
    "\n",
    "In this notebook we will have an opportunity to visualize the latest number of confirmed cases of COVID-19 around the world. \n",
    "\n",
    "Use this notebook to explore each affected country and continent. \n",
    "\n",
    "Press the Run button to run the next cell.\n",
    "\n"
   ]
  },
  {
   "cell_type": "code",
   "execution_count": null,
   "metadata": {},
   "outputs": [],
   "source": [
    "try:\n",
    "    import requests as r\n",
    "    import pandas as pd\n",
    "    from pandas.io.json import json_normalize\n",
    "    import pycountry_convert as pc\n",
    "    import plotly.offline as offline \n",
    "    import plotly.graph_objs as go\n",
    "    print(\"Success!\")\n",
    "except:\n",
    "    print(\"Check that the following modules are installed: pandas, requests, pycountry_convert, \\\n",
    "    plotly.\\n To install a module, run pip command, for example !pip install pycountry_convert\")"
   ]
  },
  {
   "cell_type": "markdown",
   "metadata": {},
   "source": [
    "We are now going to download the data. \n",
    "\n",
    "Run the cell below to download the number of confirmed cases, the number of deaths and the latest updates. "
   ]
  },
  {
   "cell_type": "code",
   "execution_count": null,
   "metadata": {},
   "outputs": [],
   "source": [
    "# Get the latest data\n",
    "# Confirmed\n",
    "API_response_confirmed = r.get(\"https://covid19api.herokuapp.com/confirmed\")\n",
    "data = API_response_confirmed.json() # Check the JSON Response Content documentation below\n",
    "confirmed_df = json_normalize(data,record_path=[\"locations\"])\n",
    "# Deaths\n",
    "API_response_death = r.get(\"https://covid19api.herokuapp.com/deaths\")\n",
    "data = API_response_death.json() # Check the JSON Response Content documentation below\n",
    "death_df = json_normalize(data,record_path=[\"locations\"])\n",
    "# Latest\n",
    "API_summary = r.get(\"https://covid19api.herokuapp.com/latest\")\n",
    "data2 = API_summary.json()\n",
    "summary  = json_normalize(data2)"
   ]
  },
  {
   "cell_type": "markdown",
   "metadata": {},
   "source": [
    "COVID-19 confirmed cases (first five entries)"
   ]
  },
  {
   "cell_type": "code",
   "execution_count": null,
   "metadata": {},
   "outputs": [],
   "source": [
    "confirmed_df.head(5)"
   ]
  },
  {
   "cell_type": "markdown",
   "metadata": {},
   "source": [
    "Confirmed deaths as a result of COVID-19 (first five entries)"
   ]
  },
  {
   "cell_type": "code",
   "execution_count": null,
   "metadata": {},
   "outputs": [],
   "source": [
    "death_df.head(5)"
   ]
  },
  {
   "cell_type": "markdown",
   "metadata": {},
   "source": [
    "Let's assign a continent code to our tables. Run the cell below to do so. "
   ]
  },
  {
   "cell_type": "code",
   "execution_count": null,
   "metadata": {},
   "outputs": [],
   "source": [
    "# Assign continent codes for sunburst plot\n",
    "cont_codes = []\n",
    "for item in confirmed_df[\"country_code\"]:\n",
    "    try:\n",
    "        cont_code = pc.country_alpha2_to_continent_code(item)\n",
    "        cont_codes.append(cont_code)\n",
    "    except:\n",
    "        cont_codes.append(item)\n",
    "        \n",
    "confirmed_df[\"continent code\"] = cont_codes\n",
    "death_df[\"continent code\"] = cont_codes"
   ]
  },
  {
   "cell_type": "markdown",
   "metadata": {},
   "source": [
    "COVID-19 confirmed cases (first five entries)"
   ]
  },
  {
   "cell_type": "code",
   "execution_count": null,
   "metadata": {},
   "outputs": [],
   "source": [
    "confirmed_df.head(5)"
   ]
  },
  {
   "cell_type": "markdown",
   "metadata": {},
   "source": [
    "Confirmed deaths as a result of COVID-19 (first five entries)"
   ]
  },
  {
   "cell_type": "code",
   "execution_count": null,
   "metadata": {},
   "outputs": [],
   "source": [
    "death_df.head(5)"
   ]
  },
  {
   "cell_type": "markdown",
   "metadata": {},
   "source": [
    "Time to visualize! \n",
    "\n",
    "We will build a [sunburst chart](https://plotly.com/python/sunburst-charts/), where we display the latest number of confirmed cases in each country, as well as the latest number of deaths in each continent. \n",
    "\n",
    "We will need to manipulate our data a bit to create a plot. It may look like overwhemlming at first, but don't worry - we separated each step. "
   ]
  },
  {
   "cell_type": "code",
   "execution_count": null,
   "metadata": {},
   "outputs": [],
   "source": [
    "# Build sub DataFrame for each\n",
    "conf_df = confirmed_df[['country','continent code','latest']]\n",
    "deat_df = death_df[['country','continent code','latest']]\n",
    "\n",
    "#The sunburst plot requires weights (values), labels, and parent (region, or World)\n",
    "# We build the corresponding table here\n",
    "# Inspired and adapted from https://pypi.org/project/world-bank-data/ \n",
    "columns = ['labels','parents',  'values']\n",
    "\n",
    "# Build the levels \n",
    "# Level 1 - Countries\n",
    "level1 = conf_df.copy()\n",
    "# Rename columns\n",
    "level1.columns = columns\n",
    "# Add a text column - format values column\n",
    "level1['text'] = level1['values'].apply(lambda pop: 'Conf {:,.0f}'.format(pop))\n",
    "\n",
    "\n",
    "# Create level 2 - Continents\n",
    "# Group by continent code\n",
    "death_by_cont = deat_df.groupby('continent code').latest.sum().reset_index()[['continent code', 'continent code', 'latest']]\n",
    "# Group by continent code\n",
    "level2 = conf_df.groupby('continent code').latest.sum().reset_index()[['continent code', 'continent code', 'latest']]\n",
    "# Rename columns\n",
    "level2.columns = columns\n",
    "level2['parents'] = 'World'\n",
    "# move value to text for this level\n",
    "level2['text'] = level2['values'].apply(lambda pop: ' Confirmed {:,.0f}'.format(pop))\n",
    "level2['values'] = death_by_cont[\"latest\"]\n",
    "\n",
    "\n",
    "\n",
    "# Create level 3 - world total as of latest date\n",
    "level3 = pd.DataFrame({'parents': [''], 'labels': ['World'],\n",
    "                       'values': [0.0], 'text': ['{:,.0f}'.format(summary[\"confirmed\"].sum())]})\n",
    "\n",
    "# Create master dataframe with all levels\n",
    "all_levels = pd.concat([level1,level2,level3], axis=0,sort=True).reset_index(drop=True)\n"
   ]
  },
  {
   "cell_type": "markdown",
   "metadata": {},
   "source": [
    "Run the cell below to display the sunburst plot. \n",
    "\n",
    "Click on each continent to look at each country's COVID-19 confirmed cases. To go back, click on the continent code. \n",
    "\n",
    "The codes are as follows:\n",
    "\n",
    "    EU: Europe\n",
    "    AS: Asia\n",
    "    NA: North America\n",
    "    SA: South America\n",
    "    AF: Africa\n",
    "    OC: Oceania\n",
    "    TL and XX contain various items not recognized by Python - the Diamond Princess Cruise ship can be found there. "
   ]
  },
  {
   "cell_type": "code",
   "execution_count": null,
   "metadata": {
    "scrolled": false
   },
   "outputs": [],
   "source": [
    "#Sunburst plot\n",
    "last_date = pd.to_datetime('today').date()\n",
    "fig = offline.iplot(dict(\n",
    "    data=[dict(type='sunburst', hoverinfo='values', \\\n",
    "               **all_levels)],\n",
    "    layout=dict(title='COVID-19 Confirmed Cases as of ' + str(last_date),\n",
    "                width=800, height=800,insidetextorientation='radial')),\n",
    "    validate=False)"
   ]
  },
  {
   "cell_type": "markdown",
   "metadata": {},
   "source": [
    "Let's now divide the total number of cases in each country by the world total. \n",
    "\n",
    "$$\\text{Confirmed Case-Country Index} = \\frac{\\text{Latest Confirmed Per Country}}{\\text{Latest Confirmed in the World}}$$\n",
    "\n",
    "\n",
    "$$\\text{Death Case-Country Index} = \\frac{\\text{Latest Deaths Per Country}}{\\text{Latest Deaths in the World}}$$\n",
    "\n",
    "We will call this ratio the \"case-country\" index, and it helps us see how each country is doing, relative to the total number of cases in the world. \n",
    "\n",
    "Let us compute them and plot them in the cell below. \n",
    "\n",
    "In blue, you will see the confirmed case-country index, while in red you will see the deaths case-country index. \n",
    "\n",
    "The graph below can help us see what countries are experiencing an overexertion in their medical system. \n",
    "\n"
   ]
  },
  {
   "cell_type": "code",
   "execution_count": null,
   "metadata": {
    "scrolled": false
   },
   "outputs": [],
   "source": [
    "x = conf_df[\"country\"] \n",
    "y = conf_df[\"latest\"]/summary['confirmed'].to_list()[0]\n",
    "\n",
    "x1 = death_df[\"country\"] \n",
    "y1 = death_df[\"latest\"]/summary['deaths'].to_list()[0]\n",
    "\n",
    "trace1 = go.Bar(x=x,y=y,name=\"Confirmed Case-Country Index\")\n",
    "trace2 = go.Scatter(x=x1,y=y1,name=\"Deaths Case-Country Index\",yaxis='y2')\n",
    "layout = go.Layout(\n",
    "        title= ('Case-country indeces'),\n",
    "        yaxis=dict(title='Confirmed cases divided by world total',\\\n",
    "                   titlefont=dict(color='blue'), tickfont=dict(color='blue')),\n",
    "        yaxis2=dict(title='Death cases divided by world total', titlefont=dict(color='red'), \\\n",
    "                    tickfont=dict(color='red'), overlaying='y', side='right'),\n",
    "        showlegend=False)\n",
    "fig = go.Figure(data=[trace1,trace2], layout=layout)\n",
    "fig.update_yaxes(showgrid=True)\n",
    "fig.show()"
   ]
  },
  {
   "cell_type": "markdown",
   "metadata": {},
   "source": [
    "[![Callysto.ca License](https://github.com/callysto/curriculum-notebooks/blob/master/callysto-notebook-banner-bottom.jpg?raw=true)](https://github.com/callysto/curriculum-notebooks/blob/master/LICENSE.md)"
   ]
  }
 ],
 "metadata": {
  "kernelspec": {
   "display_name": "Python 3",
   "language": "python",
   "name": "python3"
  },
  "language_info": {
   "codemirror_mode": {
    "name": "ipython",
    "version": 3
   },
   "file_extension": ".py",
   "mimetype": "text/x-python",
   "name": "python",
   "nbconvert_exporter": "python",
   "pygments_lexer": "ipython3",
   "version": "3.7.4"
  }
 },
 "nbformat": 4,
 "nbformat_minor": 2
}
