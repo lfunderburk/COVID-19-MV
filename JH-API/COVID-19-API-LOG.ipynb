{
 "cells": [
  {
   "cell_type": "markdown",
   "metadata": {},
   "source": [
    "![alt text](https://github.com/callysto/callysto-sample-notebooks/blob/master/notebooks/images/Callysto_Notebook-Banner_Top_06.06.18.jpg?raw=true)  \n"
   ]
  },
  {
   "cell_type": "code",
   "execution_count": null,
   "metadata": {},
   "outputs": [],
   "source": [
    "import requests as r\n",
    "import pandas as pd\n",
    "from pandas.io.json import json_normalize\n",
    "import cufflinks as cf\n",
    "import numpy as np\n",
    "import plotly.graph_objs as go\n",
    "#com/mand to display graphics correctly in a Jupyter notebook\n",
    "cf.go_offline()"
   ]
  },
  {
   "cell_type": "code",
   "execution_count": null,
   "metadata": {},
   "outputs": [],
   "source": [
    "# Get the latest data\n",
    "# Confirmed\n",
    "API_response_confirmed = r.get(\"https://covid19api.herokuapp.com/confirmed\")\n",
    "data = API_response_confirmed.json() # Check the JSON Response Content documentation below\n",
    "confirmed_df = json_normalize(data,record_path=[\"locations\"])\n",
    "flat_confirmed = json_normalize(data=data['locations'])\n",
    "# Deaths\n",
    "API_response_death = r.get(\"https://covid19api.herokuapp.com/deaths\")\n",
    "data1 = API_response_death.json() # Check the JSON Response Content documentation below\n",
    "death_df = json_normalize(data1,record_path=[\"locations\"])\n",
    "flat_death = json_normalize(data=data1['locations'])\n",
    "# Latest\n",
    "API_summary = r.get(\"https://covid19api.herokuapp.com/latest\")\n",
    "data2 = API_summary.json()\n",
    "summary  = json_normalize(data2)"
   ]
  },
  {
   "cell_type": "code",
   "execution_count": null,
   "metadata": {},
   "outputs": [],
   "source": [
    "# Get unique countries\n",
    "countries_regions = confirmed_df[\"country\"].unique()\n",
    "# Get unique states\n",
    "provinces_states = confirmed_df[\"country\"].unique()\n",
    "\n",
    "# Build country dictionary: states\n",
    "country_dic  = {}\n",
    "for i in range(len(countries_regions)): \n",
    "\n",
    "    states = confirmed_df[confirmed_df[\"country\"]==countries_regions[i]][\"province\"].unique()\n",
    "\n",
    "    country_dic[countries_regions[i]] = states"
   ]
  },
  {
   "cell_type": "code",
   "execution_count": null,
   "metadata": {},
   "outputs": [],
   "source": [
    "# Assign continent codes for sunburst plot\n",
    "cont_codes = []\n",
    "for item in confirmed_df[\"country_code\"]:\n",
    "    try:\n",
    "        cont_code = pc.country_alpha2_to_continent_code(item)\n",
    "        cont_codes.append(cont_code)\n",
    "    except:\n",
    "        cont_codes.append(item)\n",
    "        \n",
    "confirmed_df[\"continent code\"] = cont_codes\n",
    "death_df[\"continent code\"] = cont_codes"
   ]
  },
  {
   "cell_type": "code",
   "execution_count": null,
   "metadata": {},
   "outputs": [],
   "source": [
    "confirmed_df.head(5)"
   ]
  },
  {
   "cell_type": "code",
   "execution_count": null,
   "metadata": {},
   "outputs": [],
   "source": [
    "death_df.head(5)"
   ]
  },
  {
   "cell_type": "code",
   "execution_count": null,
   "metadata": {},
   "outputs": [],
   "source": [
    "flat_confirmed.set_index('country', inplace=True)\n",
    "flat_death.set_index('country', inplace=True)\n"
   ]
  },
  {
   "cell_type": "code",
   "execution_count": null,
   "metadata": {},
   "outputs": [],
   "source": [
    "flat_confirmed.head(5)"
   ]
  },
  {
   "cell_type": "code",
   "execution_count": null,
   "metadata": {},
   "outputs": [],
   "source": [
    "def drop_prefix(self, prefix):\n",
    "    self.columns = self.columns.str.lstrip(prefix)\n",
    "    return self\n",
    "\n",
    "pd.core.frame.DataFrame.drop_prefix = drop_prefix\n",
    "\n",
    "\n",
    "def order_dates(flat_df):\n",
    "\n",
    "    flat_df.drop_prefix('history.')\n",
    "    flat_df.iloc[:,3:-2].columns = pd.to_datetime(flat_df.iloc[:,3:-2].columns)\n",
    "    sub = flat_df.iloc[:,3:-2]\n",
    "    sub.columns = pd.to_datetime(sub.columns)\n",
    "    sub2 = sub.reindex(sorted(sub.columns), axis=1)\n",
    "    sub3 = flat_death.reindex(sorted(flat_df.columns),axis=1).iloc[:,-5:]\n",
    "\n",
    "    final = pd.concat([sub2,sub3], axis=1, sort=False)\n",
    "    return final\n",
    "\n",
    "final_confirmed = order_dates(flat_confirmed)\n",
    "\n",
    "final_deaths = order_dates(flat_death)"
   ]
  },
  {
   "cell_type": "code",
   "execution_count": null,
   "metadata": {},
   "outputs": [],
   "source": [
    "country = \"US\"\n",
    "\n",
    "def plot_log_function(country,final_df,type_case):\n",
    "    \n",
    "    country_sp = final_df[final_df.index==country].iloc[:,:-5]\n",
    "    country_all = final_df[final_df.index==country].iloc[:,3:]\n",
    "    x = country_sp.columns.to_list()\n",
    "    y = country_sp.values\n",
    "\n",
    "    y[0] = np.array(y[0])\n",
    "\n",
    "    log_y = np.ma.log(y[0])\n",
    "\n",
    "\n",
    "    trace1 = go.Bar(x=x,y=y[0],name=country)\n",
    "    trace2 = go.Scatter(x=x,y=log_y.data,name='Log ' + str(country),yaxis='y2')\n",
    "    layout = go.Layout(\n",
    "        title= ('Number of ' + str(type_case) + ' cases for ' + str(country)),\n",
    "        yaxis=dict(title='Total Number of ' + str(type_case) + ' cases',\\\n",
    "                   titlefont=dict(color='blue'), tickfont=dict(color='blue')),\n",
    "        yaxis2=dict(title='Logarithmic curve', titlefont=dict(color='red'), \\\n",
    "                    tickfont=dict(color='red'), overlaying='y', side='right'),\n",
    "        showlegend=False)\n",
    "    fig = go.Figure(data=[trace1, trace2], layout=layout)\n",
    "    fig.update_yaxes(showgrid=False)\n",
    "    fig.show()"
   ]
  },
  {
   "cell_type": "code",
   "execution_count": null,
   "metadata": {},
   "outputs": [],
   "source": [
    "plot_log_function(\"US\",final_deaths,\"death\")"
   ]
  },
  {
   "cell_type": "code",
   "execution_count": null,
   "metadata": {},
   "outputs": [],
   "source": [
    "plot_log_function(\"US\",final_confirmed,\"confirmed\")"
   ]
  },
  {
   "cell_type": "markdown",
   "metadata": {},
   "source": [
    "[![Callysto.ca License](https://github.com/callysto/curriculum-notebooks/blob/master/callysto-notebook-banner-bottom.jpg?raw=true)](https://github.com/callysto/curriculum-notebooks/blob/master/LICENSE.md)"
   ]
  }
 ],
 "metadata": {
  "kernelspec": {
   "display_name": "Python 3",
   "language": "python",
   "name": "python3"
  },
  "language_info": {
   "codemirror_mode": {
    "name": "ipython",
    "version": 3
   },
   "file_extension": ".py",
   "mimetype": "text/x-python",
   "name": "python",
   "nbconvert_exporter": "python",
   "pygments_lexer": "ipython3",
   "version": "3.7.4"
  }
 },
 "nbformat": 4,
 "nbformat_minor": 2
}
