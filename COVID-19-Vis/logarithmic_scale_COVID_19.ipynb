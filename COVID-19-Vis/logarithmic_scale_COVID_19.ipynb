{
 "cells": [
  {
   "cell_type": "markdown",
   "metadata": {},
   "source": [
    "![alt text](https://github.com/callysto/callysto-sample-notebooks/blob/master/notebooks/images/Callysto_Notebook-Banner_Top_06.06.18.jpg?raw=true)  \n"
   ]
  },
  {
   "cell_type": "markdown",
   "metadata": {},
   "source": [
    "## Plotting the logarithmic scale on cumulative COVID-19 cases per country\n",
    "\n",
    "In this notebook we will have an opportunity to plot the cumulative number of confirmed COVID-19 cases per country, the cumulative number of deaths per country, and plot the logarithmic scale correspondingly. \n",
    "\n",
    "\n",
    "### What is a logarithmic scale?\n",
    "\n",
    "A logarithmic scale is a nonlinear scale often used when analyzing a large range of quantities. Instead of increasing in equal increments, each interval is increased by a factor of the base of the logarithm. Typically, a base 10 and base $e$ scale are used. In this notebook, we will use base 10. \n",
    "\n",
    "Let's say you have a variable $y$ which [grows exponentially](https://en.wikipedia.org/wiki/Exponential_growth), that is, \n",
    "\n",
    "on the first day, $y=10$, \n",
    "\n",
    "on the second day, $y = 100$, \n",
    "\n",
    "on the third day, $y = 1000$...\n",
    "\n",
    "What this means is that every day, the value of y will increase by a factor of ten.\n",
    "\n",
    "### Why logarithmic scale?\n",
    "\n",
    "Using a logarithmic scale is useful when the largest numbers in the data are hundreds or thousands of times larger than the smallest numbers. \n",
    "\n",
    "In our previous example, \n",
    "\n",
    "on the first day, $log_{(10)} (y) = 1$, \n",
    "\n",
    "on the second day, $log_{(10)} (y) = 2$, \n",
    "\n",
    "and on the third day, $log_{(10)} (y) = 3$.\n",
    "\n",
    "### COVID-19 number of confirmed cases grow exponentially\n",
    "\n",
    "Many articles, [including this one](https://ourworldindata.org/coronavirus) have noted that the number of confirmed cases is growing exponentially - this means that every day the number of confirmed cases is increasing by a factor \"x\". This number varies across each country. In this notebook we will explore how this is the case. \n",
    "\n",
    "Press the Run button to run the next cell.\n"
   ]
  },
  {
   "cell_type": "code",
   "execution_count": null,
   "metadata": {},
   "outputs": [],
   "source": [
    "import requests as r\n",
    "import pandas as pd\n",
    "from pandas.io.json import json_normalize\n",
    "import cufflinks as cf\n",
    "import numpy as np\n",
    "import plotly.graph_objs as go\n",
    "#com/mand to display graphics correctly in a Jupyter notebook\n",
    "cf.go_offline()\n",
    "print(\"Sucess!\")"
   ]
  },
  {
   "cell_type": "markdown",
   "metadata": {},
   "source": [
    "We will begin by downloading the data via an API developed by [Omar Laraqui](https://github.com/Omaroid)."
   ]
  },
  {
   "cell_type": "code",
   "execution_count": null,
   "metadata": {},
   "outputs": [],
   "source": [
    "# Get the latest data\n",
    "# Confirmed\n",
    "try:\n",
    "    API_response_confirmed = r.get(\"https://covid19api.herokuapp.com/confirmed\")\n",
    "    data = API_response_confirmed.json() # Check the JSON Response Content documentation below\n",
    "    confirmed_df = json_normalize(data,record_path=[\"locations\"])\n",
    "    \n",
    "    print(\"Confirmed cases download was successful!\")\n",
    "except:\n",
    "    print(\"Error: check GitHub is functioning appropriately, check https://covid19api.herokuapp.com/ is not down, check fields were not renamed\")\n",
    "# Deaths\n",
    "try:\n",
    "    API_response_death = r.get(\"https://covid19api.herokuapp.com/deaths\")\n",
    "    data1 = API_response_death.json() # Check the JSON Response Content documentation below\n",
    "    death_df = json_normalize(data1,record_path=[\"locations\"])\n",
    "    \n",
    "    print(\"Death cases download was successful!\")\n",
    "except:\n",
    "    print(\"Error: check GitHub is functioning appropriately, check https://covid19api.herokuapp.com/ is not down, check fields were not renamed\")\n",
    "# Latest\n",
    "try:\n",
    "    API_summary = r.get(\"https://covid19api.herokuapp.com/latest\")\n",
    "    data2 = API_summary.json()\n",
    "    summary  = json_normalize(data2)\n",
    "    print(\"Latest cases download was successful!\")\n",
    "except:\n",
    "    print(\"Error: check GitHub is functioning appropriately, check https://covid19api.herokuapp.com/ is not down, check fields were not renamed\")"
   ]
  },
  {
   "cell_type": "markdown",
   "metadata": {},
   "source": [
    "Now that we have downloaded the data, let's take a look at our dataframes:"
   ]
  },
  {
   "cell_type": "code",
   "execution_count": null,
   "metadata": {},
   "outputs": [],
   "source": [
    "print(\"Confirmed cases, first 5 entries\")\n",
    "confirmed_df.head(5)"
   ]
  },
  {
   "cell_type": "code",
   "execution_count": null,
   "metadata": {},
   "outputs": [],
   "source": [
    "print(\"Death cases, first 5 entries\")\n",
    "death_df.head(5)"
   ]
  },
  {
   "cell_type": "code",
   "execution_count": null,
   "metadata": {},
   "outputs": [],
   "source": [
    "print(\"Summary data, latest cases\")\n",
    "summary"
   ]
  },
  {
   "cell_type": "markdown",
   "metadata": {},
   "source": [
    "Let's flatten the data - remove the {} and expand history field. "
   ]
  },
  {
   "cell_type": "code",
   "execution_count": null,
   "metadata": {},
   "outputs": [],
   "source": [
    "# Flattening the data \n",
    "flat_confirmed = json_normalize(data=data['locations'])\n",
    "flat_death = json_normalize(data=data1['locations'])\n",
    "flat_confirmed.set_index('country', inplace=True)\n",
    "flat_death.set_index('country', inplace=True)\n"
   ]
  },
  {
   "cell_type": "markdown",
   "metadata": {},
   "source": [
    "Let's take a look at the first few entries."
   ]
  },
  {
   "cell_type": "code",
   "execution_count": null,
   "metadata": {},
   "outputs": [],
   "source": [
    "print(\"Flattened confirmed cases\")\n",
    "flat_confirmed.head(5)"
   ]
  },
  {
   "cell_type": "code",
   "execution_count": null,
   "metadata": {},
   "outputs": [],
   "source": [
    "print(\"Flattened death cases\")\n",
    "flat_death.head(5)"
   ]
  },
  {
   "cell_type": "markdown",
   "metadata": {},
   "source": [
    "We need to manipulate the data a bit to remove the \"history.\" from the dates. "
   ]
  },
  {
   "cell_type": "code",
   "execution_count": null,
   "metadata": {},
   "outputs": [],
   "source": [
    "# Define a function to drop the history.prefix\n",
    "# Create function drop_prefix\n",
    "def drop_prefix(self, prefix):\n",
    "    self.columns = self.columns.str.lstrip(prefix)\n",
    "    return self\n",
    "\n",
    "# Call function\n",
    "pd.core.frame.DataFrame.drop_prefix = drop_prefix\n",
    "\n",
    "# Define function which removes history. prefix, and orders the column dates in ascending order\n",
    "def order_dates(flat_df):\n",
    "\n",
    "    # Drop prefix\n",
    "    flat_df.drop_prefix('history.')\n",
    "    # Isolate dates columns\n",
    "    flat_df.iloc[:,3:-2].columns = pd.to_datetime(flat_df.iloc[:,3:-2].columns)\n",
    "    # Transform to datetim format\n",
    "    sub = flat_df.iloc[:,3:-2]\n",
    "    sub.columns = pd.to_datetime(sub.columns)\n",
    "    # Sort\n",
    "    sub2 = sub.reindex(sorted(sub.columns), axis=1)\n",
    "    sub3 = flat_df.reindex(sorted(flat_df.columns),axis=1).iloc[:,-5:]\n",
    "    # Concatenate\n",
    "    final = pd.concat([sub2,sub3], axis=1, sort=False)\n",
    "    return final\n",
    "\n",
    "final_confirmed = order_dates(flat_confirmed)\n",
    "\n",
    "final_deaths = order_dates(flat_death)\n",
    "\n"
   ]
  },
  {
   "cell_type": "code",
   "execution_count": null,
   "metadata": {},
   "outputs": [],
   "source": [
    "print(\"Reformatted confirmed\")\n",
    "final_confirmed.head(5)"
   ]
  },
  {
   "cell_type": "code",
   "execution_count": null,
   "metadata": {},
   "outputs": [],
   "source": [
    "print(\"Reformatted deaths\")\n",
    "final_deaths.head(5)"
   ]
  },
  {
   "cell_type": "markdown",
   "metadata": {},
   "source": [
    "## Visualizing the data\n",
    "\n",
    "In the next few cells we will manipulate the data one more time to visualize. "
   ]
  },
  {
   "cell_type": "code",
   "execution_count": null,
   "metadata": {},
   "outputs": [],
   "source": [
    "from ipywidgets import widgets, Button, VBox, HBox,Layout\n",
    "from IPython.display import display, Javascript, Markdown, HTML\n",
    "\n",
    "def run_4cell( b ):\n",
    "    \n",
    "    display(Javascript('IPython.notebook.execute_cell_range(IPython.notebook.get_selected_index()+1,\\\n",
    "    IPython.notebook.get_selected_index()+2)'))  \n",
    "\n",
    "    \n",
    "def plot_log_function(country,final_df,type_case):\n",
    "    \n",
    "    latest_arr = []\n",
    "    date_arr = []\n",
    "    for item in final_df[final_df.index==country].iloc[:,0:-5].columns:\n",
    "        date_arr.append(item)\n",
    "        latest_arr.append(final_df[final_df.index==country][item].sum())\n",
    "\n",
    "    final_confirmed_red = pd.DataFrame({\"Date\":date_arr,\"CumulativeTotal\":latest_arr})\n",
    "\n",
    "    \n",
    "    \n",
    "    x = final_confirmed_red.Date\n",
    "    y = final_confirmed_red.CumulativeTotal\n",
    "\n",
    "    npy = np.array(y.to_list())\n",
    "    l_y = np.log10(npy, where=0<npy, out=np.nan*npy)\n",
    "\n",
    "\n",
    "    trace1 = go.Bar(x=x,y=y,name=country)\n",
    "    trace2 = go.Scatter(x=x,y=l_y,name='Log ' + str(country),yaxis='y2')\n",
    "    layout = go.Layout(\n",
    "        title= ('Number of ' + str(type_case) + ' cases for ' + str(country)),\n",
    "        yaxis=dict(title='Total Number of ' + str(type_case) + ' cases',\\\n",
    "                   titlefont=dict(color='blue'), tickfont=dict(color='blue')),\n",
    "        yaxis2=dict(title='Logarithmic curve', titlefont=dict(color='red'), \\\n",
    "                    tickfont=dict(color='red'), overlaying='y', side='right'),\n",
    "        showlegend=False)\n",
    "    fig = go.Figure(data=[trace1,trace2],layout=layout)\n",
    "    fig.update_yaxes(showgrid=True)\n",
    "    fig.show()   \n",
    "    \n",
    "countries_regions = final_confirmed.index.unique().tolist()\n",
    "\n",
    "\n",
    "style = {'description_width': 'initial'}\n",
    "\n",
    "# UI\n",
    "CD_button = widgets.Button(\n",
    "        button_style='success',\n",
    "        description=\"Choose Country\", \n",
    "        layout=Layout(width='15%', height='30px'),\n",
    "        style=style\n",
    "    )    \n",
    "\n",
    "all_the_widgets = [widgets.Combobox(\n",
    "        # value='John',\n",
    "        placeholder='Choose country',\n",
    "        options = countries_regions, \n",
    "        description ='Country/Region:',\n",
    "        ensure_option=True,\n",
    "        style=style,\n",
    "        disabled=False\n",
    "    )]\n",
    "    # Connect widget to function - run subsequent cells\n",
    "CD_button.on_click( run_4cell )"
   ]
  },
  {
   "cell_type": "markdown",
   "metadata": {},
   "source": [
    "#### Exercise\n",
    "\n",
    "In the cell below, change type the first few letters of a country you are interested in. \n",
    "\n",
    "Press the \"Choose Country\" button to visualize the logarithmic curve for each country. "
   ]
  },
  {
   "cell_type": "code",
   "execution_count": null,
   "metadata": {},
   "outputs": [],
   "source": [
    "tab2 = VBox(children=[HBox(children=all_the_widgets),\n",
    "                          CD_button])\n",
    "display(tab2)"
   ]
  },
  {
   "cell_type": "code",
   "execution_count": null,
   "metadata": {},
   "outputs": [],
   "source": [
    "country = all_the_widgets[0].value\n",
    "\n",
    "plot_log_function(country,final_confirmed,\"confirmed\")\n",
    "plot_log_function(country,final_deaths,\"death\")"
   ]
  },
  {
   "cell_type": "markdown",
   "metadata": {},
   "source": [
    "### Observations\n",
    "\n",
    "Try multiple countries and compare the red curve with the logarithmic values against the actual values. \n",
    "\n",
    "For example: try China, US, Canada, Italy. How does the number of actual cases change? Remember that we are computing log base 10 - which means that the log scale tells us by how many factors of 10 the number of confirmed and deaths have changed over time. \n",
    "\n"
   ]
  },
  {
   "cell_type": "markdown",
   "metadata": {},
   "source": [
    "[![Callysto.ca License](https://github.com/callysto/curriculum-notebooks/blob/master/callysto-notebook-banner-bottom.jpg?raw=true)](https://github.com/callysto/curriculum-notebooks/blob/master/LICENSE.md)"
   ]
  }
 ],
 "metadata": {
  "kernelspec": {
   "display_name": "Python 3",
   "language": "python",
   "name": "python3"
  },
  "language_info": {
   "codemirror_mode": {
    "name": "ipython",
    "version": 3
   },
   "file_extension": ".py",
   "mimetype": "text/x-python",
   "name": "python",
   "nbconvert_exporter": "python",
   "pygments_lexer": "ipython3",
   "version": "3.7.4"
  }
 },
 "nbformat": 4,
 "nbformat_minor": 2
}
