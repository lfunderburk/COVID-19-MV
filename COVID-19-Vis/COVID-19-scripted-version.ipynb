{
 "cells": [
  {
   "cell_type": "markdown",
   "metadata": {},
   "source": [
    "![Callysto.ca Banner](https://github.com/callysto/curriculum-notebooks/blob/master/callysto-notebook-banner-top.jpg?raw=true)"
   ]
  },
  {
   "cell_type": "markdown",
   "metadata": {},
   "source": [
    "## Visualizing live data for COVID-19 cases around the world\n",
    "\n",
    "In this notebook we will have an opportunity to visualize the latest number of confirmed cases of COVID-19 around the world. \n",
    "\n",
    "Use this notebook to explore each affected country and continent. \n",
    "\n",
    "Press the Run button to run the next cell.\n",
    "\n",
    "Note: You only need to install dependencies once. If you receive Success! after running the cell below, comment out the dependencies as follows\n",
    "\n",
    "    # !pip install pycountry_convert\n",
    "    # !pip install requests\n",
    "    # !pip install pandas\n",
    "    # !pip install plotly"
   ]
  },
  {
   "cell_type": "markdown",
   "metadata": {},
   "source": [
    "We are now going to download the data. \n",
    "\n",
    "Run the cell below to download the number of confirmed cases, the number of deaths and the latest updates. "
   ]
  },
  {
   "cell_type": "markdown",
   "metadata": {},
   "source": [
    "COVID-19 confirmed cases (first five entries)"
   ]
  },
  {
   "cell_type": "code",
   "execution_count": null,
   "metadata": {},
   "outputs": [],
   "source": [
    "%run -i ./scripts/download_and_parse_data.py"
   ]
  },
  {
   "cell_type": "code",
   "execution_count": null,
   "metadata": {},
   "outputs": [],
   "source": [
    "print(\"Confirmed cases, first 5 entries\")\n",
    "confirmed_df.head(5)"
   ]
  },
  {
   "cell_type": "markdown",
   "metadata": {},
   "source": [
    "Confirmed deaths as a result of COVID-19 (first five entries)"
   ]
  },
  {
   "cell_type": "code",
   "execution_count": null,
   "metadata": {},
   "outputs": [],
   "source": [
    "print(\"Fatal cases, first 5 entries\")\n",
    "death_df.head(5)"
   ]
  },
  {
   "cell_type": "markdown",
   "metadata": {},
   "source": [
    "Let's assign a continent code to our tables. Run the cell below to do so. "
   ]
  },
  {
   "cell_type": "markdown",
   "metadata": {},
   "source": [
    "Time to visualize! \n",
    "\n",
    "We will build a [sunburst chart](https://plotly.com/python/sunburst-charts/), where we display the latest number of confirmed cases in each country, as well as the latest number of deaths in each continent. \n",
    "\n",
    "We will need to manipulate our data a bit to create a plot. It may look like overwhemlming at first, but don't worry - we separated each step. "
   ]
  },
  {
   "cell_type": "markdown",
   "metadata": {},
   "source": [
    "Run the cell below to display the sunburst plot. \n",
    "\n",
    "Click on each continent to look at each country's COVID-19 confirmed cases. To go back, click on the continent code. \n",
    "\n",
    "The codes are as follows:\n",
    "\n",
    "    EU: Europe\n",
    "    AS: Asia\n",
    "    NA: North America\n",
    "    SA: South America\n",
    "    AF: Africa\n",
    "    OC: Oceania\n",
    "    TL and XX contain various items not recognized by Python - the Diamond Princess Cruise ship can be found there. "
   ]
  },
  {
   "cell_type": "code",
   "execution_count": null,
   "metadata": {
    "scrolled": false
   },
   "outputs": [],
   "source": [
    "#Sunburst plot\n",
    "all_levels = generate_levels(conf_df,\"Confirmed\")\n",
    "plot_sunburst(all_levels,'Confirmed')"
   ]
  },
  {
   "cell_type": "code",
   "execution_count": null,
   "metadata": {},
   "outputs": [],
   "source": [
    "all_levels = generate_levels(deat_df,\"Death\")\n",
    "plot_sunburst(all_levels,'Death')"
   ]
  },
  {
   "cell_type": "markdown",
   "metadata": {},
   "source": [
    "## Plotting Cumulative COVID-19 Cases per Country on a Logarithmic Scale\n",
    "\n",
    "In this notebook we will have an opportunity to plot the cumulative number of confirmed COVID-19 cases per country, the cumulative number of deaths per country, and plot the logarithmic scale correspondingly. \n",
    "\n",
    "\n",
    "### What is a logarithmic scale?\n",
    "\n",
    "A logarithmic scale is a nonlinear scale often used when analyzing a large range of quantities. Instead of increasing in equal increments, each interval is increased by a factor of the base of the logarithm. Typically, a base 10 and base $e$ scale are used. In this notebook, we will use base 10. \n",
    "\n",
    "Let's say you have a variable $y$ which [grows exponentially](https://en.wikipedia.org/wiki/Exponential_growth), that is, \n",
    "\n",
    "on the first day, $y=10$, \n",
    "\n",
    "on the second day, $y = 100$, \n",
    "\n",
    "on the third day, $y = 1000$...\n",
    "\n",
    "What this means is that every day, the value of y will increase by a factor of ten.\n",
    "\n",
    "### Why logarithmic scale?\n",
    "\n",
    "Using a logarithmic scale is useful when the largest numbers in the data are hundreds or thousands of times larger than the smallest numbers. \n",
    "\n",
    "In our previous example, \n",
    "\n",
    "on the first day, $log_{(10)} (y) = 1$, \n",
    "\n",
    "on the second day, $log_{(10)} (y) = 2$, \n",
    "\n",
    "and on the third day, $log_{(10)} (y) = 3$.\n",
    "\n",
    "### COVID-19 number of confirmed cases grow exponentially\n",
    "\n",
    "Many articles, [including this one](https://ourworldindata.org/coronavirus) have noted that the number of confirmed cases is growing exponentially - this means that every day the number of confirmed cases is increasing by a factor \"x\". This number varies across each country. In this notebook we will explore how this is the case. \n",
    "\n",
    "Press the >| Run button to run the next cell. Use the\n"
   ]
  },
  {
   "cell_type": "code",
   "execution_count": null,
   "metadata": {},
   "outputs": [],
   "source": [
    "display(choices)"
   ]
  },
  {
   "cell_type": "code",
   "execution_count": null,
   "metadata": {},
   "outputs": [],
   "source": [
    "country = choices.value\n",
    "\n",
    "\n",
    "plot_log_function(country,final_confirmed,\"confirmed\")\n",
    "plot_log_function(country,final_deaths,\"fatal\")"
   ]
  },
  {
   "cell_type": "markdown",
   "metadata": {},
   "source": [
    "[![Callysto.ca License](https://github.com/callysto/curriculum-notebooks/blob/master/callysto-notebook-banner-bottom.jpg?raw=true)](https://github.com/callysto/curriculum-notebooks/blob/master/LICENSE.md)"
   ]
  }
 ],
 "metadata": {
  "kernelspec": {
   "display_name": "Python 3",
   "language": "python",
   "name": "python3"
  },
  "language_info": {
   "codemirror_mode": {
    "name": "ipython",
    "version": 3
   },
   "file_extension": ".py",
   "mimetype": "text/x-python",
   "name": "python",
   "nbconvert_exporter": "python",
   "pygments_lexer": "ipython3",
   "version": "3.8.5"
  }
 },
 "nbformat": 4,
 "nbformat_minor": 2
}
