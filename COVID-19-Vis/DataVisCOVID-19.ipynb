{
 "cells": [
  {
   "cell_type": "markdown",
   "metadata": {},
   "source": [
    "![alt text](https://github.com/callysto/callysto-sample-notebooks/blob/master/notebooks/images/Callysto_Notebook-Banner_Top_06.06.18.jpg?raw=true)  \n"
   ]
  },
  {
   "cell_type": "markdown",
   "metadata": {},
   "source": [
    "## Visualizing live COVID-19 cases around the world\n",
    "\n",
    "In this notebook we will have an opportunity to visualize the total number of cases of confirmed, recovered and deceased individuals. \n",
    "\n",
    "Use this notebook to explore each affected country. \n",
    "\n",
    "Press the Run button to run the next cell. ![](RunB.png)\n",
    "\n",
    "\n",
    "You should see a green button called \"Get Latest Data\". Press it.\n"
   ]
  },
  {
   "cell_type": "code",
   "execution_count": null,
   "metadata": {},
   "outputs": [],
   "source": [
    "# NOTE: you need to install all modules below, in addition to pandas, matplotlib and plotly\n",
    "# !pip install pycountry_convert\n",
    "# !pip install world_bank_data --upgrade\n",
    "# !pip install ipycombobox\n",
    "# !jupyter nbextension enable --py ipycombobox\n",
    "# !pip install GitPython"
   ]
  },
  {
   "cell_type": "code",
   "execution_count": null,
   "metadata": {},
   "outputs": [],
   "source": [
    "from ipywidgets import Button, widgets, Layout\n",
    "from IPython.display import display, Javascript\n",
    "\n",
    "def run_4cell( b ):\n",
    "    \n",
    "    display(Javascript('IPython.notebook.execute_cell_range(IPython.notebook.get_selected_index()+1,\\\n",
    "                       IPython.notebook.get_selected_index()+4)'))    \n",
    "\n",
    "style = {'description_width': 'initial'}\n",
    "\n",
    "clone_button = widgets.Button(\n",
    "    button_style='success',\n",
    "    description=\"Get Latest Data\", \n",
    "    layout=Layout(width='15%', height='30px'),\n",
    "    style=style\n",
    ")    \n",
    "\n",
    "# Connect widget to function - run subsequent cells\n",
    "clone_button.on_click( run_4cell )\n",
    "display(clone_button)"
   ]
  },
  {
   "cell_type": "code",
   "execution_count": null,
   "metadata": {},
   "outputs": [],
   "source": [
    "!git clone https://github.com/CSSEGISandData/COVID-19"
   ]
  },
  {
   "cell_type": "code",
   "execution_count": null,
   "metadata": {},
   "outputs": [],
   "source": [
    "%run -r get_repo.py"
   ]
  },
  {
   "cell_type": "code",
   "execution_count": null,
   "metadata": {},
   "outputs": [],
   "source": [
    "# And now we can plot the World Population\n",
    "fig = offline.iplot(dict(\n",
    "    data=[dict(type='sunburst', hoverinfo='values', \\\n",
    "               **all_levels)],\n",
    "    layout=dict(title='COVID-19 Confirmed Cases, as of ' + str(last_date) + '<br>Click on a region to zoom',\n",
    "                width=800, height=800,insidetextorientation='radial')),\n",
    "    validate=False)\n"
   ]
  },
  {
   "cell_type": "markdown",
   "metadata": {},
   "source": [
    "## Explore how each country is doing\n",
    "\n",
    "Run the cell below. Upon running, you will see a box - enter the first few letters for the country or region you are interested in, then press the \"Choose Country\" button."
   ]
  },
  {
   "cell_type": "code",
   "execution_count": null,
   "metadata": {},
   "outputs": [],
   "source": [
    "all_the_widgets[0]\n",
    "tab2 = VBox(children=[HBox(children=all_the_widgets),\n",
    "                          CD_button])\n",
    "display(tab2)"
   ]
  },
  {
   "cell_type": "markdown",
   "metadata": {},
   "source": [
    "Use the \"Country/Region\" dropdown menu to select a country. Press the \"Choose Country\" button."
   ]
  },
  {
   "cell_type": "code",
   "execution_count": null,
   "metadata": {
    "scrolled": true
   },
   "outputs": [],
   "source": [
    "chosen_country = all_the_widgets[0].value\n",
    "chosen_states = country_dic[chosen_country]    \n",
    "\n",
    "chosen_states = chosen_states.tolist()\n",
    "\n",
    "\n",
    "cities = [widgets.Combobox(\n",
    "                    value = chosen_states[0],\n",
    "                    options = chosen_states, \n",
    "                    description ='Province/State:', \n",
    "                    style = style, \n",
    "                    disabled=False),\n",
    "              widgets.Dropdown(\n",
    "                        value = \"All\",\n",
    "                        options = [\"Confirmed\",\"Deaths\",\"Recovered\",\"All\"], \n",
    "                        description ='Status:', \n",
    "                        style = style, \n",
    "                        disabled=False)]\n",
    "\n"
   ]
  },
  {
   "cell_type": "code",
   "execution_count": null,
   "metadata": {},
   "outputs": [],
   "source": [
    "# user menu using categories found above\n",
    "tab3 = VBox(children=[HBox(children=cities),\n",
    "                          PR_button])\n",
    "display(tab3)"
   ]
  },
  {
   "cell_type": "markdown",
   "metadata": {},
   "source": [
    "Select a Province or State from the dropdown menu and a \"status\". Status can be Confirmed, Recovered, Deaths, and All, where All contains all these subcategories. "
   ]
  },
  {
   "cell_type": "code",
   "execution_count": null,
   "metadata": {
    "scrolled": false
   },
   "outputs": [],
   "source": [
    "subset_c = sorted_df[(sorted_df[\"Country/Region\"]==all_the_widgets[0].value) & \n",
    "                    ((sorted_df[\"Province/State\"]==cities[0].value))]\n",
    "\n",
    "\n",
    "fig = plt.figure(figsize=(10,10))\n",
    "\n",
    "if cities[1].value ==\"All\":\n",
    "    \n",
    "    stat = \"Confirmed, Deaths and Recovered\"\n",
    "    for item,z in zip([\"Confirmed\",\"Deaths\",\"Recovered\"],['red','blue','green']):\n",
    "        plt.plot(subset_c[\"Last Update\"],subset_c[item],color=z,label=item)\n",
    "    \n",
    "else:\n",
    "    stat = cities[1].value\n",
    "    plt.plot(subset_c[\"Last Update\"],subset_c[stat])\n",
    "    \n",
    "plt.xticks(rotation=90)\n",
    "plt.xlabel(\"Last Update\")\n",
    "plt.title(\"Number of \" + stat + \" \"+\\\n",
    "                  str(cities[0].value) + \", \" + str(all_the_widgets[0].value) ,fontsize=15)\n",
    "plt.ylabel(\"Number of \" + str(stat))\n",
    "plt.legend(loc='best')\n",
    "plt.grid(True)\n",
    "plt.show()\n"
   ]
  },
  {
   "cell_type": "markdown",
   "metadata": {},
   "source": [
    "## Stop and evaluate!\n",
    "\n",
    "We notice that in the initial stages of COVID-19 spread, there is a rapid increase in the number of confirmed cases. \n",
    "\n",
    "It might seem scary at first to see the number grow so rapidly, which is why nations have acted quickly to enact social distancing. \n",
    "\n",
    "In the next notebook we will model an outbreak and learn that number of confirmed individuals will decrease over time. "
   ]
  },
  {
   "cell_type": "markdown",
   "metadata": {},
   "source": [
    "## References\n",
    "\n",
    "An interactive web-based dashboard to track COVID-19 in real time\n",
    "Dong, Ensheng et al.\n",
    "The Lancet Infectious Diseases, Volume 0, Issue 0\n",
    "\n",
    "----\n",
    "\n",
    "\n",
    "#### Data Sources \n",
    "\n",
    "Data obtained from https://github.com/CSSEGISandData/COVID-19\n",
    "\n",
    "Provided by Johns Hopkins University Center for Systems Science and Engineering (JHU CSSE):\n",
    "https://systems.jhu.edu/"
   ]
  },
  {
   "cell_type": "markdown",
   "metadata": {},
   "source": [
    "![alt text](https://github.com/callysto/callysto-sample-notebooks/blob/master/notebooks/images/Callysto_Notebook-Banners_Bottom_06.06.18.jpg?raw=true)"
   ]
  }
 ],
 "metadata": {
  "kernelspec": {
   "display_name": "Python 3",
   "language": "python",
   "name": "python3"
  },
  "language_info": {
   "codemirror_mode": {
    "name": "ipython",
    "version": 3
   },
   "file_extension": ".py",
   "mimetype": "text/x-python",
   "name": "python",
   "nbconvert_exporter": "python",
   "pygments_lexer": "ipython3",
   "version": "3.7.4"
  }
 },
 "nbformat": 4,
 "nbformat_minor": 2
}
